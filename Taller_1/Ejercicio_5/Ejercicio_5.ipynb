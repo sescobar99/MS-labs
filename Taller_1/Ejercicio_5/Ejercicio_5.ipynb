{
 "cells": [
  {
   "cell_type": "code",
   "execution_count": 1,
   "metadata": {},
   "outputs": [],
   "source": [
    "# !pip install pandas\n",
    "# !pip install sklearn\n",
    "# !pip install matplotlib\n",
    "# !pip install numpy\n"
   ]
  },
  {
   "cell_type": "markdown",
   "metadata": {},
   "source": [
    "# Ejemplo de un modelo de clasificación"
   ]
  },
  {
   "cell_type": "markdown",
   "metadata": {},
   "source": [
    "## Imports"
   ]
  },
  {
   "cell_type": "code",
   "execution_count": 2,
   "metadata": {},
   "outputs": [],
   "source": [
    "import pandas as pd\n",
    "import numpy as np\n",
    "import matplotlib.pyplot as plt"
   ]
  },
  {
   "cell_type": "markdown",
   "metadata": {},
   "source": [
    "## Cargar base de datos"
   ]
  },
  {
   "cell_type": "code",
   "execution_count": 3,
   "metadata": {},
   "outputs": [
    {
     "name": "stdout",
     "output_type": "stream",
     "text": [
      "Número de muestras =  17898\n",
      "Número de columnas =  9\n"
     ]
    },
    {
     "data": {
      "text/html": [
       "<div>\n",
       "<style scoped>\n",
       "    .dataframe tbody tr th:only-of-type {\n",
       "        vertical-align: middle;\n",
       "    }\n",
       "\n",
       "    .dataframe tbody tr th {\n",
       "        vertical-align: top;\n",
       "    }\n",
       "\n",
       "    .dataframe thead th {\n",
       "        text-align: right;\n",
       "    }\n",
       "</style>\n",
       "<table border=\"1\" class=\"dataframe\">\n",
       "  <thead>\n",
       "    <tr style=\"text-align: right;\">\n",
       "      <th></th>\n",
       "      <th>Mean_IP</th>\n",
       "      <th>Standard_deviation_IP</th>\n",
       "      <th>Excess_kurtosis_IP</th>\n",
       "      <th>Skewness_IP</th>\n",
       "      <th>Mean_DM-SNR_curve</th>\n",
       "      <th>Standard_DM-SNR_curve</th>\n",
       "      <th>Excess_kurtosis_DM-SNR_curve</th>\n",
       "      <th>Skewness_DM-SNR_curve</th>\n",
       "      <th>pulsar</th>\n",
       "    </tr>\n",
       "  </thead>\n",
       "  <tbody>\n",
       "    <tr>\n",
       "      <th>0</th>\n",
       "      <td>140.562500</td>\n",
       "      <td>55.683782</td>\n",
       "      <td>-0.234571</td>\n",
       "      <td>-0.699648</td>\n",
       "      <td>3.199833</td>\n",
       "      <td>19.110426</td>\n",
       "      <td>7.975532</td>\n",
       "      <td>74.242225</td>\n",
       "      <td>0</td>\n",
       "    </tr>\n",
       "    <tr>\n",
       "      <th>1</th>\n",
       "      <td>102.507812</td>\n",
       "      <td>58.882430</td>\n",
       "      <td>0.465318</td>\n",
       "      <td>-0.515088</td>\n",
       "      <td>1.677258</td>\n",
       "      <td>14.860146</td>\n",
       "      <td>10.576487</td>\n",
       "      <td>127.393580</td>\n",
       "      <td>0</td>\n",
       "    </tr>\n",
       "    <tr>\n",
       "      <th>2</th>\n",
       "      <td>103.015625</td>\n",
       "      <td>39.341649</td>\n",
       "      <td>0.323328</td>\n",
       "      <td>1.051164</td>\n",
       "      <td>3.121237</td>\n",
       "      <td>21.744669</td>\n",
       "      <td>7.735822</td>\n",
       "      <td>63.171909</td>\n",
       "      <td>0</td>\n",
       "    </tr>\n",
       "    <tr>\n",
       "      <th>3</th>\n",
       "      <td>136.750000</td>\n",
       "      <td>57.178449</td>\n",
       "      <td>-0.068415</td>\n",
       "      <td>-0.636238</td>\n",
       "      <td>3.642977</td>\n",
       "      <td>20.959280</td>\n",
       "      <td>6.896499</td>\n",
       "      <td>53.593661</td>\n",
       "      <td>0</td>\n",
       "    </tr>\n",
       "    <tr>\n",
       "      <th>4</th>\n",
       "      <td>88.726562</td>\n",
       "      <td>40.672225</td>\n",
       "      <td>0.600866</td>\n",
       "      <td>1.123492</td>\n",
       "      <td>1.178930</td>\n",
       "      <td>11.468720</td>\n",
       "      <td>14.269573</td>\n",
       "      <td>252.567306</td>\n",
       "      <td>0</td>\n",
       "    </tr>\n",
       "    <tr>\n",
       "      <th>...</th>\n",
       "      <td>...</td>\n",
       "      <td>...</td>\n",
       "      <td>...</td>\n",
       "      <td>...</td>\n",
       "      <td>...</td>\n",
       "      <td>...</td>\n",
       "      <td>...</td>\n",
       "      <td>...</td>\n",
       "      <td>...</td>\n",
       "    </tr>\n",
       "    <tr>\n",
       "      <th>17893</th>\n",
       "      <td>136.429688</td>\n",
       "      <td>59.847421</td>\n",
       "      <td>-0.187846</td>\n",
       "      <td>-0.738123</td>\n",
       "      <td>1.296823</td>\n",
       "      <td>12.166062</td>\n",
       "      <td>15.450260</td>\n",
       "      <td>285.931022</td>\n",
       "      <td>0</td>\n",
       "    </tr>\n",
       "    <tr>\n",
       "      <th>17894</th>\n",
       "      <td>122.554688</td>\n",
       "      <td>49.485605</td>\n",
       "      <td>0.127978</td>\n",
       "      <td>0.323061</td>\n",
       "      <td>16.409699</td>\n",
       "      <td>44.626893</td>\n",
       "      <td>2.945244</td>\n",
       "      <td>8.297092</td>\n",
       "      <td>0</td>\n",
       "    </tr>\n",
       "    <tr>\n",
       "      <th>17895</th>\n",
       "      <td>119.335938</td>\n",
       "      <td>59.935939</td>\n",
       "      <td>0.159363</td>\n",
       "      <td>-0.743025</td>\n",
       "      <td>21.430602</td>\n",
       "      <td>58.872000</td>\n",
       "      <td>2.499517</td>\n",
       "      <td>4.595173</td>\n",
       "      <td>0</td>\n",
       "    </tr>\n",
       "    <tr>\n",
       "      <th>17896</th>\n",
       "      <td>114.507812</td>\n",
       "      <td>53.902400</td>\n",
       "      <td>0.201161</td>\n",
       "      <td>-0.024789</td>\n",
       "      <td>1.946488</td>\n",
       "      <td>13.381731</td>\n",
       "      <td>10.007967</td>\n",
       "      <td>134.238910</td>\n",
       "      <td>0</td>\n",
       "    </tr>\n",
       "    <tr>\n",
       "      <th>17897</th>\n",
       "      <td>57.062500</td>\n",
       "      <td>85.797340</td>\n",
       "      <td>1.406391</td>\n",
       "      <td>0.089520</td>\n",
       "      <td>188.306020</td>\n",
       "      <td>64.712562</td>\n",
       "      <td>-1.597527</td>\n",
       "      <td>1.429475</td>\n",
       "      <td>0</td>\n",
       "    </tr>\n",
       "  </tbody>\n",
       "</table>\n",
       "<p>17898 rows × 9 columns</p>\n",
       "</div>"
      ],
      "text/plain": [
       "          Mean_IP  Standard_deviation_IP  Excess_kurtosis_IP  Skewness_IP  \\\n",
       "0      140.562500              55.683782           -0.234571    -0.699648   \n",
       "1      102.507812              58.882430            0.465318    -0.515088   \n",
       "2      103.015625              39.341649            0.323328     1.051164   \n",
       "3      136.750000              57.178449           -0.068415    -0.636238   \n",
       "4       88.726562              40.672225            0.600866     1.123492   \n",
       "...           ...                    ...                 ...          ...   \n",
       "17893  136.429688              59.847421           -0.187846    -0.738123   \n",
       "17894  122.554688              49.485605            0.127978     0.323061   \n",
       "17895  119.335938              59.935939            0.159363    -0.743025   \n",
       "17896  114.507812              53.902400            0.201161    -0.024789   \n",
       "17897   57.062500              85.797340            1.406391     0.089520   \n",
       "\n",
       "       Mean_DM-SNR_curve  Standard_DM-SNR_curve  Excess_kurtosis_DM-SNR_curve  \\\n",
       "0               3.199833              19.110426                      7.975532   \n",
       "1               1.677258              14.860146                     10.576487   \n",
       "2               3.121237              21.744669                      7.735822   \n",
       "3               3.642977              20.959280                      6.896499   \n",
       "4               1.178930              11.468720                     14.269573   \n",
       "...                  ...                    ...                           ...   \n",
       "17893           1.296823              12.166062                     15.450260   \n",
       "17894          16.409699              44.626893                      2.945244   \n",
       "17895          21.430602              58.872000                      2.499517   \n",
       "17896           1.946488              13.381731                     10.007967   \n",
       "17897         188.306020              64.712562                     -1.597527   \n",
       "\n",
       "       Skewness_DM-SNR_curve  pulsar  \n",
       "0                  74.242225       0  \n",
       "1                 127.393580       0  \n",
       "2                  63.171909       0  \n",
       "3                  53.593661       0  \n",
       "4                 252.567306       0  \n",
       "...                      ...     ...  \n",
       "17893             285.931022       0  \n",
       "17894               8.297092       0  \n",
       "17895               4.595173       0  \n",
       "17896             134.238910       0  \n",
       "17897               1.429475       0  \n",
       "\n",
       "[17898 rows x 9 columns]"
      ]
     },
     "metadata": {},
     "output_type": "display_data"
    }
   ],
   "source": [
    "#Obtenido en base a la documentacion del conjunto de datos\n",
    "header = ['Mean_IP','Standard_deviation_IP','Excess_kurtosis_IP','Skewness_IP',\n",
    "          'Mean_DM-SNR_curve','Standard_DM-SNR_curve','Excess_kurtosis_DM-SNR_curve','Skewness_DM-SNR_curve',\n",
    "         'pulsar']\n",
    "\n",
    "dataset = pd.read_csv(\"HTRU_2.csv\",header= None, names = header, sep = \",\")\n",
    "print(\"Número de muestras = \", dataset.shape[0])\n",
    "print(\"Número de columnas = \", dataset.shape[1])\n",
    "display(dataset)"
   ]
  },
  {
   "cell_type": "markdown",
   "metadata": {},
   "source": [
    "## Separar datos de etiquetas"
   ]
  },
  {
   "cell_type": "code",
   "execution_count": 4,
   "metadata": {},
   "outputs": [
    {
     "data": {
      "text/html": [
       "<div>\n",
       "<style scoped>\n",
       "    .dataframe tbody tr th:only-of-type {\n",
       "        vertical-align: middle;\n",
       "    }\n",
       "\n",
       "    .dataframe tbody tr th {\n",
       "        vertical-align: top;\n",
       "    }\n",
       "\n",
       "    .dataframe thead th {\n",
       "        text-align: right;\n",
       "    }\n",
       "</style>\n",
       "<table border=\"1\" class=\"dataframe\">\n",
       "  <thead>\n",
       "    <tr style=\"text-align: right;\">\n",
       "      <th></th>\n",
       "      <th>Mean_IP</th>\n",
       "      <th>Standard_deviation_IP</th>\n",
       "      <th>Excess_kurtosis_IP</th>\n",
       "      <th>Skewness_IP</th>\n",
       "      <th>Mean_DM-SNR_curve</th>\n",
       "      <th>Standard_DM-SNR_curve</th>\n",
       "      <th>Excess_kurtosis_DM-SNR_curve</th>\n",
       "      <th>Skewness_DM-SNR_curve</th>\n",
       "    </tr>\n",
       "  </thead>\n",
       "  <tbody>\n",
       "    <tr>\n",
       "      <th>0</th>\n",
       "      <td>140.562500</td>\n",
       "      <td>55.683782</td>\n",
       "      <td>-0.234571</td>\n",
       "      <td>-0.699648</td>\n",
       "      <td>3.199833</td>\n",
       "      <td>19.110426</td>\n",
       "      <td>7.975532</td>\n",
       "      <td>74.242225</td>\n",
       "    </tr>\n",
       "    <tr>\n",
       "      <th>1</th>\n",
       "      <td>102.507812</td>\n",
       "      <td>58.882430</td>\n",
       "      <td>0.465318</td>\n",
       "      <td>-0.515088</td>\n",
       "      <td>1.677258</td>\n",
       "      <td>14.860146</td>\n",
       "      <td>10.576487</td>\n",
       "      <td>127.393580</td>\n",
       "    </tr>\n",
       "    <tr>\n",
       "      <th>2</th>\n",
       "      <td>103.015625</td>\n",
       "      <td>39.341649</td>\n",
       "      <td>0.323328</td>\n",
       "      <td>1.051164</td>\n",
       "      <td>3.121237</td>\n",
       "      <td>21.744669</td>\n",
       "      <td>7.735822</td>\n",
       "      <td>63.171909</td>\n",
       "    </tr>\n",
       "    <tr>\n",
       "      <th>3</th>\n",
       "      <td>136.750000</td>\n",
       "      <td>57.178449</td>\n",
       "      <td>-0.068415</td>\n",
       "      <td>-0.636238</td>\n",
       "      <td>3.642977</td>\n",
       "      <td>20.959280</td>\n",
       "      <td>6.896499</td>\n",
       "      <td>53.593661</td>\n",
       "    </tr>\n",
       "    <tr>\n",
       "      <th>4</th>\n",
       "      <td>88.726562</td>\n",
       "      <td>40.672225</td>\n",
       "      <td>0.600866</td>\n",
       "      <td>1.123492</td>\n",
       "      <td>1.178930</td>\n",
       "      <td>11.468720</td>\n",
       "      <td>14.269573</td>\n",
       "      <td>252.567306</td>\n",
       "    </tr>\n",
       "    <tr>\n",
       "      <th>...</th>\n",
       "      <td>...</td>\n",
       "      <td>...</td>\n",
       "      <td>...</td>\n",
       "      <td>...</td>\n",
       "      <td>...</td>\n",
       "      <td>...</td>\n",
       "      <td>...</td>\n",
       "      <td>...</td>\n",
       "    </tr>\n",
       "    <tr>\n",
       "      <th>17893</th>\n",
       "      <td>136.429688</td>\n",
       "      <td>59.847421</td>\n",
       "      <td>-0.187846</td>\n",
       "      <td>-0.738123</td>\n",
       "      <td>1.296823</td>\n",
       "      <td>12.166062</td>\n",
       "      <td>15.450260</td>\n",
       "      <td>285.931022</td>\n",
       "    </tr>\n",
       "    <tr>\n",
       "      <th>17894</th>\n",
       "      <td>122.554688</td>\n",
       "      <td>49.485605</td>\n",
       "      <td>0.127978</td>\n",
       "      <td>0.323061</td>\n",
       "      <td>16.409699</td>\n",
       "      <td>44.626893</td>\n",
       "      <td>2.945244</td>\n",
       "      <td>8.297092</td>\n",
       "    </tr>\n",
       "    <tr>\n",
       "      <th>17895</th>\n",
       "      <td>119.335938</td>\n",
       "      <td>59.935939</td>\n",
       "      <td>0.159363</td>\n",
       "      <td>-0.743025</td>\n",
       "      <td>21.430602</td>\n",
       "      <td>58.872000</td>\n",
       "      <td>2.499517</td>\n",
       "      <td>4.595173</td>\n",
       "    </tr>\n",
       "    <tr>\n",
       "      <th>17896</th>\n",
       "      <td>114.507812</td>\n",
       "      <td>53.902400</td>\n",
       "      <td>0.201161</td>\n",
       "      <td>-0.024789</td>\n",
       "      <td>1.946488</td>\n",
       "      <td>13.381731</td>\n",
       "      <td>10.007967</td>\n",
       "      <td>134.238910</td>\n",
       "    </tr>\n",
       "    <tr>\n",
       "      <th>17897</th>\n",
       "      <td>57.062500</td>\n",
       "      <td>85.797340</td>\n",
       "      <td>1.406391</td>\n",
       "      <td>0.089520</td>\n",
       "      <td>188.306020</td>\n",
       "      <td>64.712562</td>\n",
       "      <td>-1.597527</td>\n",
       "      <td>1.429475</td>\n",
       "    </tr>\n",
       "  </tbody>\n",
       "</table>\n",
       "<p>17898 rows × 8 columns</p>\n",
       "</div>"
      ],
      "text/plain": [
       "          Mean_IP  Standard_deviation_IP  Excess_kurtosis_IP  Skewness_IP  \\\n",
       "0      140.562500              55.683782           -0.234571    -0.699648   \n",
       "1      102.507812              58.882430            0.465318    -0.515088   \n",
       "2      103.015625              39.341649            0.323328     1.051164   \n",
       "3      136.750000              57.178449           -0.068415    -0.636238   \n",
       "4       88.726562              40.672225            0.600866     1.123492   \n",
       "...           ...                    ...                 ...          ...   \n",
       "17893  136.429688              59.847421           -0.187846    -0.738123   \n",
       "17894  122.554688              49.485605            0.127978     0.323061   \n",
       "17895  119.335938              59.935939            0.159363    -0.743025   \n",
       "17896  114.507812              53.902400            0.201161    -0.024789   \n",
       "17897   57.062500              85.797340            1.406391     0.089520   \n",
       "\n",
       "       Mean_DM-SNR_curve  Standard_DM-SNR_curve  Excess_kurtosis_DM-SNR_curve  \\\n",
       "0               3.199833              19.110426                      7.975532   \n",
       "1               1.677258              14.860146                     10.576487   \n",
       "2               3.121237              21.744669                      7.735822   \n",
       "3               3.642977              20.959280                      6.896499   \n",
       "4               1.178930              11.468720                     14.269573   \n",
       "...                  ...                    ...                           ...   \n",
       "17893           1.296823              12.166062                     15.450260   \n",
       "17894          16.409699              44.626893                      2.945244   \n",
       "17895          21.430602              58.872000                      2.499517   \n",
       "17896           1.946488              13.381731                     10.007967   \n",
       "17897         188.306020              64.712562                     -1.597527   \n",
       "\n",
       "       Skewness_DM-SNR_curve  \n",
       "0                  74.242225  \n",
       "1                 127.393580  \n",
       "2                  63.171909  \n",
       "3                  53.593661  \n",
       "4                 252.567306  \n",
       "...                      ...  \n",
       "17893             285.931022  \n",
       "17894               8.297092  \n",
       "17895               4.595173  \n",
       "17896             134.238910  \n",
       "17897               1.429475  \n",
       "\n",
       "[17898 rows x 8 columns]"
      ]
     },
     "metadata": {},
     "output_type": "display_data"
    },
    {
     "name": "stdout",
     "output_type": "stream",
     "text": [
      "\n",
      "\n"
     ]
    },
    {
     "data": {
      "text/plain": [
       "0        0\n",
       "1        0\n",
       "2        0\n",
       "3        0\n",
       "4        0\n",
       "        ..\n",
       "17893    0\n",
       "17894    0\n",
       "17895    0\n",
       "17896    0\n",
       "17897    0\n",
       "Name: pulsar, Length: 17898, dtype: int64"
      ]
     },
     "metadata": {},
     "output_type": "display_data"
    }
   ],
   "source": [
    "# Separamos los datos en X = caracteristicas o variables y Y = clases (salida del modelo)\n",
    "X = dataset[['Mean_IP','Standard_deviation_IP','Excess_kurtosis_IP','Skewness_IP',\n",
    "          'Mean_DM-SNR_curve','Standard_DM-SNR_curve','Excess_kurtosis_DM-SNR_curve','Skewness_DM-SNR_curve']] # Cada columna es una característica o columna\n",
    "\n",
    "y = dataset['pulsar'] # Datos etiquetados como clases 0 y 1\n",
    "\n",
    "display(X)\n",
    "print(\"\\n\")\n",
    "display(y)"
   ]
  },
  {
   "cell_type": "markdown",
   "metadata": {},
   "source": [
    "## Escalado de los datos"
   ]
  },
  {
   "cell_type": "code",
   "execution_count": 5,
   "metadata": {},
   "outputs": [
    {
     "name": "stdout",
     "output_type": "stream",
     "text": [
      "[[ 1.14931702  1.33483164 -0.66956953 ... -0.37062547 -0.07279778\n",
      "  -0.28743812]\n",
      " [-0.3341682   1.80226533 -0.01178476 ... -0.5889241   0.50442694\n",
      "   0.21158145]\n",
      " [-0.31437216 -1.05332222 -0.14523256 ... -0.23532816 -0.12599609\n",
      "  -0.39137346]\n",
      " ...\n",
      " [ 0.3218423   1.95621968 -0.2993338  ...  1.67156847 -1.28807874\n",
      "  -0.94133005]\n",
      " [ 0.13362759  1.07450972 -0.26005007 ... -0.66485697  0.37825656\n",
      "   0.27584987]\n",
      " [-2.10576204  5.73546965  0.87267394 ...  1.97154554 -2.19732744\n",
      "  -0.97105168]]\n"
     ]
    }
   ],
   "source": [
    "# Debido a que cada columna de X tiene diferente escalas de los datos, nos puede generar inconvenientes a la hora de crear\n",
    "# un modelo de clasificación. Por consiguiente, se decide utilizar un escalamiento estándar en los datos para que queden\n",
    "# escalas proporcionadas.\n",
    "from sklearn.preprocessing import StandardScaler # Escalamiento estándar\n",
    "\n",
    "ss = StandardScaler()\n",
    "X_scaled = ss.fit_transform(X) # Se realiza la transformación del conjunto de datos. \n",
    "print(X_scaled)  # Resultado del escalamiento estándar"
   ]
  },
  {
   "cell_type": "markdown",
   "metadata": {},
   "source": [
    "## Division de los datos(train-test)"
   ]
  },
  {
   "cell_type": "code",
   "execution_count": 6,
   "metadata": {},
   "outputs": [
    {
     "name": "stdout",
     "output_type": "stream",
     "text": [
      "Tamaño de los datos de entrenamiento:  (12528, 8)\n",
      "Tamaño de los datos de prueba:  (5370, 8)\n",
      "Tamaño del vector de clases de entrenamiento:  (12528,)\n",
      "Tamaño del vector de clases de prueba:  (5370,)\n"
     ]
    }
   ],
   "source": [
    "# A partir de Y y X_escalado, procedemos a separar los datos en entrenamiento y prueba\n",
    "from sklearn.model_selection import train_test_split\n",
    "\n",
    "X_train, X_test, y_train, y_test = train_test_split(X_scaled, y, test_size = 0.3, random_state = 0)\n",
    "\n",
    "print('Tamaño de los datos de entrenamiento: ', X_train.shape)\n",
    "print('Tamaño de los datos de prueba: ', X_test.shape)\n",
    "print('Tamaño del vector de clases de entrenamiento: ', y_train.shape)\n",
    "print('Tamaño del vector de clases de prueba: ', y_test.shape)"
   ]
  },
  {
   "cell_type": "markdown",
   "metadata": {},
   "source": [
    "## Creación de modelos de clasificación"
   ]
  },
  {
   "cell_type": "code",
   "execution_count": 7,
   "metadata": {},
   "outputs": [],
   "source": [
    "from sklearn.naive_bayes import GaussianNB # Algoritmo Naive Bayes Gaussiano\n",
    "clf_GNB = GaussianNB(var_smoothing = 1e-9) # Configurar parámetros del algoritmo\n",
    "clf_GNB = clf_GNB.fit(X_train,y_train.ravel()) # Se crea el modelo de clasificación"
   ]
  },
  {
   "cell_type": "code",
   "execution_count": 8,
   "metadata": {},
   "outputs": [],
   "source": [
    "from sklearn.ensemble import RandomForestClassifier #Import Random Forest Model\n",
    "clf_RFC = RandomForestClassifier(n_estimators=100)\n",
    "clf_RFC = clf_RFC.fit(X_train,y_train) #Train the model using the training sets y_pred=clf.predict(X_test)"
   ]
  },
  {
   "cell_type": "code",
   "execution_count": 9,
   "metadata": {},
   "outputs": [],
   "source": [
    "from sklearn import svm\n",
    "clf_SVM = svm.SVC(kernel='linear')\n",
    "clf_SVM = clf_SVM.fit(X_train, y_train)"
   ]
  },
  {
   "cell_type": "markdown",
   "metadata": {},
   "source": [
    "## Validación de los modelos"
   ]
  },
  {
   "cell_type": "code",
   "execution_count": 10,
   "metadata": {},
   "outputs": [
    {
     "name": "stdout",
     "output_type": "stream",
     "text": [
      "Accuracy for GNB: 0.948975791433892\n",
      "Accuracy for RFC: 0.9813780260707635\n",
      "Accuracy for SVM: 0.9808193668528864\n",
      "Classification Report for GNB:\n",
      "               precision    recall  f1-score   support\n",
      "\n",
      "           0       0.99      0.96      0.97      4926\n",
      "           1       0.65      0.85      0.73       444\n",
      "\n",
      "    accuracy                           0.95      5370\n",
      "   macro avg       0.82      0.90      0.85      5370\n",
      "weighted avg       0.96      0.95      0.95      5370\n",
      "\n",
      "Classification Report for RFC:\n",
      "               precision    recall  f1-score   support\n",
      "\n",
      "           0       0.99      0.99      0.99      4926\n",
      "           1       0.93      0.84      0.88       444\n",
      "\n",
      "    accuracy                           0.98      5370\n",
      "   macro avg       0.96      0.92      0.94      5370\n",
      "weighted avg       0.98      0.98      0.98      5370\n",
      "\n",
      "Classification Report for SVM:\n",
      "               precision    recall  f1-score   support\n",
      "\n",
      "           0       0.98      0.99      0.99      4926\n",
      "           1       0.93      0.83      0.88       444\n",
      "\n",
      "    accuracy                           0.98      5370\n",
      "   macro avg       0.96      0.91      0.93      5370\n",
      "weighted avg       0.98      0.98      0.98      5370\n",
      "\n"
     ]
    }
   ],
   "source": [
    "y_pred_GNB=clf_GNB.predict(X_test)\n",
    "y_pred_RFC=clf_RFC.predict(X_test)\n",
    "y_pred_SVM=clf_SVM.predict(X_test)\n",
    "\n",
    "#Import scikit-learn metrics module for accuracy calculation\n",
    "#All scorer objects follow the convention that higher return values are better than lower return values.\n",
    "from sklearn import metrics \n",
    "# Model Accuracy, how often is the classifier correct?\n",
    "print(\"Accuracy for GNB:\",metrics.accuracy_score(y_test, y_pred_GNB))\n",
    "print(\"Accuracy for RFC:\",metrics.accuracy_score(y_test, y_pred_RFC))\n",
    "print(\"Accuracy for SVM:\",metrics.accuracy_score(y_test, y_pred_SVM))\n",
    "#The accuracy_score function computes the accuracy, either the fraction (default) or the count (normalize=False) of correct predictions.\n",
    "\n",
    "\n",
    "# The classification_report function builds a text report showing the main classification metrics.\n",
    "print(\"Classification Report for GNB:\\n\",metrics.classification_report(y_test, y_pred_GNB))\n",
    "print(\"Classification Report for RFC:\\n\",metrics.classification_report(y_test, y_pred_RFC))\n",
    "print(\"Classification Report for SVM:\\n\",metrics.classification_report(y_test, y_pred_SVM))"
   ]
  },
  {
   "cell_type": "markdown",
   "metadata": {},
   "source": [
    "## Matriz de confsuion\n",
    "The confusion_matrix function evaluates classification accuracy by computing the confusion matrix with each row corresponding to the true class\n",
    "\n",
    "Example of confusion matrix usage to evaluate the quality of the output of a classifier on the iris data set. The diagonal elements represent the number of points for which the predicted label is equal to the true label, while off-diagonal elements are those that are mislabeled by the classifier. The higher the diagonal values of the confusion matrix the better, indicating many correct predictions.\n",
    "\n",
    "![](https://scikit-learn.org/stable/_images/sphx_glr_plot_confusion_matrix_002.png)"
   ]
  },
  {
   "cell_type": "code",
   "execution_count": 11,
   "metadata": {},
   "outputs": [
    {
     "data": {
      "image/png": "[encoded data removed]",
      "text/plain": [
       "<Figure size 432x288 with 2 Axes>"
      ]
     },
     "metadata": {
      "needs_background": "light"
     },
     "output_type": "display_data"
    }
   ],
   "source": [
    "matrix_GNB = metrics.plot_confusion_matrix(clf_GNB, X_test, y_test, cmap=plt.cm.Blues, normalize='true')\n",
    "\n",
    "plt.title('Confusion matrix for GNB classifier')\n",
    "plt.show(matrix_GNB)"
   ]
  },
  {
   "cell_type": "code",
   "execution_count": 12,
   "metadata": {},
   "outputs": [
    {
     "data": {
      "image/png": "[encoded data removed]",
      "text/plain": [
       "<Figure size 432x288 with 2 Axes>"
      ]
     },
     "metadata": {
      "needs_background": "light"
     },
     "output_type": "display_data"
    }
   ],
   "source": [
    "matrix_RFC = metrics.plot_confusion_matrix(clf_RFC, X_test, y_test, cmap=plt.cm.Blues, normalize='true')\n",
    "\n",
    "plt.title('Confusion matrix for RF classifier')\n",
    "plt.show(matrix_RFC)"
   ]
  },
  {
   "cell_type": "code",
   "execution_count": 13,
   "metadata": {},
   "outputs": [
    {
     "data": {
      "image/png": "[encoded data removed]",
      "text/plain": [
       "<Figure size 432x288 with 2 Axes>"
      ]
     },
     "metadata": {
      "needs_background": "light"
     },
     "output_type": "display_data"
    }
   ],
   "source": [
    "matrix_SVM = metrics.plot_confusion_matrix(clf_SVM, X_test, y_test, cmap=plt.cm.Blues, normalize='true')\n",
    "\n",
    "plt.title('Confusion matrix for SVM classifier')\n",
    "plt.show(matrix_SVM)"
   ]
  },
  {
   "attachments": {
    "conf_mat.jpg": {
     "image/jpeg": "[encoded data removed]"
    }
   },
   "cell_type": "markdown",
   "metadata": {},
   "source": [
    "# Analisis\n",
    "\n",
    "Se utilizaron 3 algoritmos para generar clasificadores: Naive Bayes, Random forest y Support vector machine a los cuales nos referiremos como GNB, RFC, SVM respectivamente.\n",
    "\n",
    "Inicialmente los datos se separaron en una proporcion 70-30 para entrenamiento y prueba respectivamente.\n",
    "\n",
    "Para comprobar la correctitud de los modelos generados se presentaron diferentes metricas usando las funciones proporcionadas por el modulo metrics de sklearn, las cuales fueron plot_confusion_matrix() para realizar la matriz de confusion, accuracy_score() para calcular la exactitud y classification_report() que presenta diereentes metricas tales como precision, puntaje f1, entre otras.\n",
    "\n",
    "Para analizar los resultados nos guiaremos principalmente por el puntaje de exactitud y la matriz de confusion(la cual nos habla tambien de exactitud pero en cada una de las combinaciones posibles predecido X verdadero) que es presentada en su \"version\" normalizada.\n",
    "\n",
    "Los valores de exactiud obtenidos para cada clasificador son aproximadamente 0.95, 0.98 y 0.98 para los clasificadores GNB, RFC y SVM respectivamente. Se puede notar que el rendimiento de RFC y SVM es mejor que el de GNB, pero aun asi todo producen buenos resultados.\n",
    "\n",
    "Al analizar y comparar la matriz de confusion de cada clasificador podemos notar RFC y SVM proporcionan una alta exactitud(0.99) al clasificar correctamente las etiquetas negativas(falso Pulsar) pero su desempeño disminuye al clasificar positivamente(pulsares verdaderos) en comparacion con lo obtenido en el caso de GNB (0.83 vs 0.85).\n",
    "\n",
    "En todos los casos se presenta una tendencia a clasificar como falsos algunos Pulsares aun siendo verdaderos (0.15, 0.15, 0.17), esto principalmente se debe a que nos encontramos ante un problema desbalanceado en el que hay una gran diferencia entre el numero de muestras que correspondo a cada etiqueta/clase( 1,639 ejemplos positivos contra 16,259 ejemplos negativos). Para solucionar esto se propone utilizar una metodologia de muestreo estratificado al momento de separar los datos y entrenar el modelo. (sklearn.model_selection.StratifiedShuffleSplit; sklearn.model_selection.StratifiedKFold)\n",
    "\n",
    "\n",
    "A continuacion se presentan las matrices de confusion para mayor claridad\n",
    "![conf_mat.jpg](attachment:conf_mat.jpg)"
   ]
  }
 ],
 "metadata": {
  "kernelspec": {
   "display_name": "Python 3",
   "language": "python",
   "name": "python3"
  },
  "language_info": {
   "codemirror_mode": {
    "name": "ipython",
    "version": 3
   },
   "file_extension": ".py",
   "mimetype": "text/x-python",
   "name": "python",
   "nbconvert_exporter": "python",
   "pygments_lexer": "ipython3",
   "version": "3.8.3"
  }
 },
 "nbformat": 4,
 "nbformat_minor": 4
}
